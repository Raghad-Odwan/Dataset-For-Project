{
  "cells": [
    {
      "cell_type": "markdown",
      "metadata": {
        "id": "view-in-github",
        "colab_type": "text"
      },
      "source": [
        "<a href=\"https://colab.research.google.com/github/Raghad-Odwan/Dataset-For-Project/blob/main/DermAI_Model_Training_Final_v_.ipynb\" target=\"_parent\"><img src=\"https://colab.research.google.com/assets/colab-badge.svg\" alt=\"Open In Colab\"/></a>"
      ]
    },
    {
      "cell_type": "markdown",
      "source": [
        "**Raghad.M**"
      ],
      "metadata": {
        "id": "DH5H4M5s0l_l"
      }
    },
    {
      "cell_type": "markdown",
      "metadata": {
        "id": "aM9j1mMPmK1C"
      },
      "source": [
        "\n",
        "\n",
        "---\n",
        "\n"
      ]
    },
    {
      "cell_type": "code",
      "execution_count": 3,
      "metadata": {
        "id": "-BZSwgpySG-f",
        "colab": {
          "base_uri": "https://localhost:8080/"
        },
        "outputId": "fe971019-f194-48c6-d0a0-637d3544d9b7"
      },
      "outputs": [
        {
          "output_type": "stream",
          "name": "stdout",
          "text": [
            "Mounted at /content/drive\n"
          ]
        }
      ],
      "source": [
        "from google.colab import drive\n",
        "drive.mount('/content/drive')"
      ]
    },
    {
      "cell_type": "code",
      "execution_count": 4,
      "metadata": {
        "id": "KnOEhTE2PYL8"
      },
      "outputs": [],
      "source": [
        "!mkdir -p /content/drive/MyDrive/checkpoints"
      ]
    },
    {
      "cell_type": "code",
      "execution_count": 5,
      "metadata": {
        "id": "WtSwYn7MR8jT",
        "colab": {
          "base_uri": "https://localhost:8080/"
        },
        "outputId": "2c1638f6-d6f3-4fe9-89d3-058f0fa5c7f8"
      },
      "outputs": [
        {
          "output_type": "stream",
          "name": "stdout",
          "text": [
            "TensorFlow version: 2.19.0\n",
            "GPU available: [PhysicalDevice(name='/physical_device:GPU:0', device_type='GPU')]\n"
          ]
        }
      ],
      "source": [
        "import tensorflow as tf\n",
        "print(\"TensorFlow version:\", tf.__version__)\n",
        "print(\"GPU available:\", tf.config.list_physical_devices('GPU'))"
      ]
    },
    {
      "cell_type": "code",
      "execution_count": 6,
      "metadata": {
        "id": "VCfgt1ggPLpH",
        "colab": {
          "base_uri": "https://localhost:8080/",
          "height": 17
        },
        "outputId": "ce831dc5-b964-4bae-ffce-d7024b2dc6b8"
      },
      "outputs": [
        {
          "output_type": "display_data",
          "data": {
            "text/plain": [
              "<IPython.core.display.Javascript object>"
            ],
            "application/javascript": [
              "function ClickConnect(){\n",
              "    console.log(\"Preventing Colab timeout\");\n",
              "    document.querySelector(\"colab-toolbar-button#connect\").click();\n",
              "}\n",
              "setInterval(ClickConnect, 60000)\n"
            ]
          },
          "metadata": {}
        }
      ],
      "source": [
        "%%javascript\n",
        "function ClickConnect(){\n",
        "    console.log(\"Preventing Colab timeout\");\n",
        "    document.querySelector(\"colab-toolbar-button#connect\").click();\n",
        "}\n",
        "setInterval(ClickConnect, 60000)"
      ]
    },
    {
      "cell_type": "markdown",
      "metadata": {
        "id": "ujA-N-lvmNt_"
      },
      "source": [
        "\n",
        "\n",
        "---\n",
        "\n"
      ]
    },
    {
      "cell_type": "markdown",
      "metadata": {
        "id": "dJqf6nCNSK99"
      },
      "source": [
        "# **DermAI_AI_Model_Training**"
      ]
    },
    {
      "cell_type": "markdown",
      "metadata": {
        "id": "AvegU7jsUFOa"
      },
      "source": [
        "This Google Colab notebook has been prepared for the preparation and training of a machine learning model specialized in skin cancer detection.\n",
        "The model performs binary classification of skin lesion images into two categories: Benign and Malignant.\n",
        "\n",
        "\n",
        "### Dataset Source\n",
        "\n",
        "The dataset used in this project was collected from the following sources:\n",
        "(                  _____                )\n",
        "\n",
        "The dataset contains approximately 13,249 benign and 6,211 malignant images, providing a total of around 19,460 samples used for training, validation, and testing.\n",
        "\n",
        "\n",
        "\n",
        "\n",
        "---\n",
        "\n",
        "\n",
        "\n",
        "\n",
        "### Notebook Structure\n",
        "\n",
        "This notebook is organized into three main sections:\n",
        "\n",
        "**-Data Loading, Verification, and Preprocessing**\n",
        "\n",
        "This section focuses on importing the dataset, verifying its structure, cleaning inconsistencies, and performing Exploratory Data Analysis (EDA).\n",
        "Steps include resizing, normalization, data augmentation, and splitting the dataset into training, validation, and testing subsets.\n",
        "\n",
        "**-Model Training and Evaluation**\n",
        "\n",
        "In this section, a machine learning model is implemented and trained for skin lesion classification.\n",
        "The process includes model configuration, training, and performance evaluation using metrics such as accuracy, precision, recall, and F1-score.\n",
        "Optimization methods are also applied to ensure stable and efficient training.\n",
        "\n",
        "**-Result Interpretation and Visualization**\n",
        "\n",
        "This part is dedicated to analyzing the model’s predictions and interpreting its decision-making process using Grad-CAM and other visualization tools.\n",
        "It highlights how the model distinguishes between benign and malignant lesions, providing insights into reliability and interpretability."
      ]
    },
    {
      "cell_type": "markdown",
      "metadata": {
        "id": "6PuzGd2ij6kK"
      },
      "source": [
        "\n",
        "\n",
        "---\n",
        "\n",
        "\n",
        "**Note: This notebook represents a core component of the DermAI Graduation Project at Palestine Technical University – Kadoorie.\n",
        "It aims to demonstrate the end-to-end process of building an intelligent, interpretable, and efficient system for skin cancer classification, contributing to early detection and supporting clinical decision-making.**\n",
        "\n",
        "\n",
        "---\n",
        "\n"
      ]
    },
    {
      "cell_type": "markdown",
      "metadata": {
        "id": "dlNwr0kGmi-h"
      },
      "source": [
        "## 1. **Part One: Dataset Preparation & Preprocessing**"
      ]
    },
    {
      "cell_type": "code",
      "execution_count": 7,
      "metadata": {
        "id": "MtslpsqEsU88"
      },
      "outputs": [],
      "source": [
        "# Import required libraries\n",
        "import os\n",
        "import cv2\n",
        "import shutil\n",
        "import random\n",
        "import numpy as np\n",
        "import pandas as pd\n",
        "import matplotlib.pyplot as plt\n",
        "from tqdm import tqdm\n",
        "from PIL import Image, UnidentifiedImageError\n",
        "from sklearn.model_selection import train_test_split\n",
        "from collections import defaultdict\n",
        "from pathlib import Path\n",
        "from datetime import datetime\n",
        "import warnings\n",
        "warnings.filterwarnings(\"ignore\")"
      ]
    },
    {
      "cell_type": "code",
      "execution_count": 8,
      "metadata": {
        "id": "-VQSvLBtsbCJ",
        "colab": {
          "base_uri": "https://localhost:8080/"
        },
        "outputId": "5bfdb009-f3c1-4e47-d161-9e9fd6d09426"
      },
      "outputs": [
        {
          "output_type": "stream",
          "name": "stdout",
          "text": [
            "Base directory: /content/drive/MyDrive/Dataset/Dataset\n",
            "benign: 13294 files\n",
            "malignant: 6211 files\n"
          ]
        }
      ],
      "source": [
        "# Define main dataset path\n",
        "base_dir = \"/content/drive/MyDrive/Dataset/Dataset\"\n",
        "folders = [\"benign\", \"malignant\"]\n",
        "\n",
        "print(\"Base directory:\", base_dir)\n",
        "for folder in folders:\n",
        "    path = os.path.join(base_dir, folder)\n",
        "    print(f\"{folder}: {len(os.listdir(path))} files\")"
      ]
    },
    {
      "cell_type": "code",
      "execution_count": 9,
      "metadata": {
        "id": "JJ8eTjKisdq6",
        "colab": {
          "base_uri": "https://localhost:8080/"
        },
        "outputId": "85da0332-3385-4eb6-aacd-9f7a88610937"
      },
      "outputs": [
        {
          "output_type": "stream",
          "name": "stdout",
          "text": [
            "Duplicate/Corrupted folder created at: /content/drive/MyDrive/Dataset/Dataset/duplicates_or_corrupted\n"
          ]
        }
      ],
      "source": [
        "# Create a folder for problematic images\n",
        "dup_dir = os.path.join(base_dir, \"duplicates_or_corrupted\")\n",
        "os.makedirs(dup_dir, exist_ok=True)\n",
        "print(\"Duplicate/Corrupted folder created at:\", dup_dir)"
      ]
    },
    {
      "cell_type": "code",
      "execution_count": 10,
      "metadata": {
        "id": "CO9lRiMgsjp1",
        "colab": {
          "base_uri": "https://localhost:8080/"
        },
        "outputId": "e6f6674a-074c-4ab3-c025-f277054f81e5"
      },
      "outputs": [
        {
          "output_type": "stream",
          "name": "stdout",
          "text": [
            "Cleaning benign (13294 images)...\n"
          ]
        },
        {
          "output_type": "stream",
          "name": "stderr",
          "text": [
            "Checking benign: 100%|██████████| 13294/13294 [06:36<00:00, 33.56it/s] \n"
          ]
        },
        {
          "output_type": "stream",
          "name": "stdout",
          "text": [
            "Cleaning malignant (6211 images)...\n"
          ]
        },
        {
          "output_type": "stream",
          "name": "stderr",
          "text": [
            "Checking malignant: 100%|██████████| 6211/6211 [02:38<00:00, 39.28it/s] "
          ]
        },
        {
          "output_type": "stream",
          "name": "stdout",
          "text": [
            "\n",
            "Cleaning Summary:\n",
            "total_checked: 19505\n",
            "corrupted: 0\n",
            "duplicates: 0\n",
            "low_quality: 0\n",
            "healthy: 19505\n"
          ]
        },
        {
          "output_type": "stream",
          "name": "stderr",
          "text": [
            "\n"
          ]
        }
      ],
      "source": [
        "# Define an image cleaning class\n",
        "class ImageCleaner:\n",
        "    def __init__(self, base_path):\n",
        "        self.base_path = Path(base_path)\n",
        "        self.folders_to_check = ['benign', 'malignant']\n",
        "        self.problem_folder = self.base_path / 'duplicates_or_corrupted'\n",
        "        self.problem_folder.mkdir(exist_ok=True)\n",
        "        self.stats = {'total_checked': 0, 'corrupted': 0, 'duplicates': 0, 'low_quality': 0, 'healthy': 0}\n",
        "        self.image_hashes = defaultdict(list)\n",
        "\n",
        "    def calculate_hash(self, image_path):\n",
        "        import hashlib\n",
        "        try:\n",
        "            hasher = hashlib.md5()\n",
        "            with open(image_path, 'rb') as f:\n",
        "                buf = f.read()\n",
        "                hasher.update(buf)\n",
        "            return hasher.hexdigest()\n",
        "        except:\n",
        "            return None\n",
        "\n",
        "    def is_image_corrupted(self, image_path):\n",
        "        try:\n",
        "            with Image.open(image_path) as img:\n",
        "                img.verify()\n",
        "            return False\n",
        "        except:\n",
        "            return True\n",
        "\n",
        "    def check_image_quality(self, image_path, min_width=50, min_height=50):\n",
        "        try:\n",
        "            with Image.open(image_path) as img:\n",
        "                width, height = img.size\n",
        "                if width < min_width or height < min_height:\n",
        "                    return False\n",
        "                if os.path.getsize(image_path) < 1000:\n",
        "                    return False\n",
        "            return True\n",
        "        except:\n",
        "            return False\n",
        "\n",
        "    def move_to_problem_folder(self, image_path):\n",
        "        try:\n",
        "            dest_subfolder = self.problem_folder / image_path.parent.name\n",
        "            dest_subfolder.mkdir(exist_ok=True)\n",
        "            shutil.move(str(image_path), str(dest_subfolder / image_path.name))\n",
        "        except Exception as e:\n",
        "            print(f\"Error moving {image_path.name}: {e}\")\n",
        "\n",
        "    def clean_folder(self, folder_name):\n",
        "        folder_path = self.base_path / folder_name\n",
        "        image_exts = ['.jpg', '.jpeg', '.png']\n",
        "        images = [f for f in folder_path.iterdir() if f.suffix.lower() in image_exts]\n",
        "        print(f\"Cleaning {folder_name} ({len(images)} images)...\")\n",
        "\n",
        "        for img_path in tqdm(images, desc=f\"Checking {folder_name}\"):\n",
        "            self.stats['total_checked'] += 1\n",
        "            if self.is_image_corrupted(img_path):\n",
        "                self.move_to_problem_folder(img_path)\n",
        "                self.stats['corrupted'] += 1\n",
        "                continue\n",
        "            if not self.check_image_quality(img_path):\n",
        "                self.move_to_problem_folder(img_path)\n",
        "                self.stats['low_quality'] += 1\n",
        "                continue\n",
        "            img_hash = self.calculate_hash(img_path)\n",
        "            if img_hash in self.image_hashes:\n",
        "                self.move_to_problem_folder(img_path)\n",
        "                self.stats['duplicates'] += 1\n",
        "            else:\n",
        "                self.image_hashes[img_hash].append(str(img_path))\n",
        "                self.stats['healthy'] += 1\n",
        "\n",
        "    def clean_all(self):\n",
        "        for folder in self.folders_to_check:\n",
        "            self.clean_folder(folder)\n",
        "        print(\"\\nCleaning Summary:\")\n",
        "        for k, v in self.stats.items():\n",
        "            print(f\"{k}: {v}\")\n",
        "\n",
        "# Run the cleaning process\n",
        "cleaner = ImageCleaner(base_dir)\n",
        "cleaner.clean_all()"
      ]
    },
    {
      "cell_type": "code",
      "execution_count": 11,
      "metadata": {
        "id": "1Aa5ODGQs6NI",
        "colab": {
          "base_uri": "https://localhost:8080/",
          "height": 452
        },
        "outputId": "fecd7807-9cb1-4296-af77-7d2a12ead38d"
      },
      "outputs": [
        {
          "output_type": "display_data",
          "data": {
            "text/plain": [
              "<Figure size 640x480 with 1 Axes>"
            ],
            "image/png": "[encoded data removed]"
          },
          "metadata": {}
        }
      ],
      "source": [
        "# Visualize class distribution\n",
        "count_benign = len(os.listdir(os.path.join(base_dir, \"benign\")))\n",
        "count_malignant = len(os.listdir(os.path.join(base_dir, \"malignant\")))\n",
        "plt.bar([\"Benign\", \"Malignant\"], [count_benign, count_malignant])\n",
        "plt.title(\"Class Distribution After Cleaning\")\n",
        "plt.ylabel(\"Number of Images\")\n",
        "plt.show()"
      ]
    },
    {
      "cell_type": "code",
      "execution_count": 12,
      "metadata": {
        "id": "yuesJ_ALs8Cq",
        "colab": {
          "base_uri": "https://localhost:8080/"
        },
        "outputId": "7d130adf-0eac-43fd-9a1b-8f907243b37c"
      },
      "outputs": [
        {
          "output_type": "stream",
          "name": "stderr",
          "text": [
            "Resizing benign: 100%|██████████| 13294/13294 [04:26<00:00, 49.88it/s]\n",
            "Resizing malignant: 100%|██████████| 6211/6211 [01:58<00:00, 52.36it/s]\n"
          ]
        }
      ],
      "source": [
        "# Resize all images to (224x224)\n",
        "IMG_SIZE = (224, 224)\n",
        "for cat in folders:\n",
        "    src_dir = os.path.join(base_dir, cat)\n",
        "    files = os.listdir(src_dir)\n",
        "    for fname in tqdm(files, desc=f\"Resizing {cat}\"):\n",
        "        path = os.path.join(src_dir, fname)\n",
        "        try:\n",
        "            img = cv2.imread(path)\n",
        "            if img is None: continue\n",
        "            resized = cv2.resize(img, IMG_SIZE, interpolation=cv2.INTER_AREA)\n",
        "            cv2.imwrite(path, resized)\n",
        "        except:\n",
        "            continue"
      ]
    },
    {
      "cell_type": "code",
      "execution_count": 13,
      "metadata": {
        "id": "dXqP3MmYtJYu",
        "colab": {
          "base_uri": "https://localhost:8080/"
        },
        "outputId": "0d342b64-ef07-420d-a278-19c85f537bbb"
      },
      "outputs": [
        {
          "output_type": "stream",
          "name": "stderr",
          "text": [
            "Copying train: 100%|██████████| 13652/13652 [02:35<00:00, 87.63it/s] \n",
            "Copying val: 100%|██████████| 2927/2927 [00:10<00:00, 275.35it/s]\n",
            "Copying test: 100%|██████████| 2926/2926 [00:10<00:00, 269.45it/s]"
          ]
        },
        {
          "output_type": "stream",
          "name": "stdout",
          "text": [
            "\n",
            "Dataset split completed successfully!\n",
            "Train: 13652 | Val: 2927 | Test: 2926\n"
          ]
        },
        {
          "output_type": "stream",
          "name": "stderr",
          "text": [
            "\n"
          ]
        }
      ],
      "source": [
        "# Split dataset (70% train, 15% val, 15% test)\n",
        "split_dir = \"/content/ai/Dataset_split\"\n",
        "os.makedirs(split_dir, exist_ok=True)\n",
        "\n",
        "rows = []\n",
        "for label in folders:\n",
        "    path = os.path.join(base_dir, label)\n",
        "    for fname in os.listdir(path):\n",
        "        if fname.lower().endswith(('.jpg', '.jpeg', '.png')):\n",
        "            rows.append({'path': os.path.join(path, fname), 'label': label})\n",
        "\n",
        "df = pd.DataFrame(rows)\n",
        "train_temp, test = train_test_split(df, test_size=0.15, stratify=df['label'], random_state=42)\n",
        "train, val = train_test_split(train_temp, test_size=0.1765, stratify=train_temp['label'], random_state=42)\n",
        "\n",
        "for subset in ['train', 'val', 'test']:\n",
        "    for label in folders:\n",
        "        os.makedirs(os.path.join(split_dir, subset, label), exist_ok=True)\n",
        "\n",
        "def copy_images(df_subset, subset_name):\n",
        "    for _, row in tqdm(df_subset.iterrows(), total=len(df_subset), desc=f\"Copying {subset_name}\"):\n",
        "        dest = os.path.join(split_dir, subset_name, row['label'], os.path.basename(row['path']))\n",
        "        shutil.copy2(row['path'], dest)\n",
        "\n",
        "copy_images(train, \"train\")\n",
        "copy_images(val, \"val\")\n",
        "copy_images(test, \"test\")\n",
        "\n",
        "print(f\"\\nDataset split completed successfully!\")\n",
        "print(f\"Train: {len(train)} | Val: {len(val)} | Test: {len(test)}\")"
      ]
    },
    {
      "cell_type": "markdown",
      "metadata": {
        "id": "2BrWAksE227X"
      },
      "source": [
        "\n",
        "\n",
        "---\n",
        "\n",
        "####  Build DataFrame & Quick Integrity Check"
      ]
    },
    {
      "cell_type": "code",
      "execution_count": 14,
      "metadata": {
        "id": "ARx5owga3By7",
        "colab": {
          "base_uri": "https://localhost:8080/"
        },
        "outputId": "ed512a56-00f8-4144-ad36-3052d80bc688"
      },
      "outputs": [
        {
          "output_type": "stream",
          "name": "stdout",
          "text": [
            "benign: 13,294 images\n",
            "malignant: 6,211 images\n"
          ]
        }
      ],
      "source": [
        "# Count the number of image files in each class folder (benign and malignant)\n",
        "# This function walks through all subdirectories and counts only valid image files.\n",
        "import os, sys, traceback\n",
        "base_path = \"/content/drive/MyDrive/Dataset/Dataset\"\n",
        "\n",
        "def count_images_in_folder(folder):\n",
        "    exts = ('.jpg','.jpeg','.png','.bmp')\n",
        "    cnt = 0\n",
        "    for root, dirs, files in os.walk(folder):\n",
        "        for f in files:\n",
        "            if f.lower().endswith(exts):\n",
        "                cnt += 1\n",
        "    return cnt\n",
        "\n",
        "for cls in ['benign','malignant']:\n",
        "    p = os.path.join(base_path, cls)\n",
        "    if not os.path.exists(p):\n",
        "        print(f\" WARNING: folder not found: {p}\")\n",
        "    else:\n",
        "        print(f\"{cls}: {count_images_in_folder(p):,} images\")"
      ]
    },
    {
      "cell_type": "code",
      "execution_count": 15,
      "metadata": {
        "id": "7z8QjeKr30K-",
        "colab": {
          "base_uri": "https://localhost:8080/"
        },
        "outputId": "7a7ae71e-0db7-49b9-cce9-f4fd5a2dd9fa"
      },
      "outputs": [
        {
          "output_type": "stream",
          "name": "stdout",
          "text": [
            "Total samples: 19505\n",
            "label\n",
            "benign       13294\n",
            "malignant     6211\n",
            "Name: count, dtype: int64\n"
          ]
        }
      ],
      "source": [
        "import os\n",
        "import pandas as pd\n",
        "from PIL import Image\n",
        "import random\n",
        "# build dataframe (paths + labels)\n",
        "rows=[]\n",
        "exts = ('.jpg','.jpeg','.png','.bmp')\n",
        "for cls in ['benign','malignant']:\n",
        "    folder = os.path.join(base_path, cls)\n",
        "    if not os.path.exists(folder):\n",
        "        continue\n",
        "    for root, dirs, files in os.walk(folder):\n",
        "        for fname in files:\n",
        "            if fname.lower().endswith(exts):\n",
        "                rows.append({'path': os.path.join(root, fname), 'label': cls})\n",
        "\n",
        "df = pd.DataFrame(rows)\n",
        "df = df.sample(frac=1, random_state=42).reset_index(drop=True)\n",
        "df['label_idx'] = df['label'].map({'benign':0, 'malignant':1})\n",
        "print(\"Total samples:\", len(df))\n",
        "print(df['label'].value_counts())"
      ]
    },
    {
      "cell_type": "code",
      "execution_count": 16,
      "metadata": {
        "id": "dho8-d694E6j",
        "colab": {
          "base_uri": "https://localhost:8080/"
        },
        "outputId": "1930a91d-d8df-40b9-e351-fc0c9e102f80"
      },
      "outputs": [
        {
          "output_type": "stream",
          "name": "stdout",
          "text": [
            " Quick corrupted-sample check passed successfully (no issues in sampled files).\n"
          ]
        }
      ],
      "source": [
        "#  quick corrupted-files check (lightweight, may take time if dataset big)\n",
        "#  try to open the first N images from each class to detect obvious corruption\n",
        "from PIL import Image\n",
        "import random\n",
        "\n",
        "def check_samples(df, n_per_class=20):\n",
        "    corrupted = []\n",
        "    for cls in df['label'].unique():\n",
        "        paths = df[df['label']==cls]['path'].tolist()\n",
        "        sample_paths = random.sample(paths, min(n_per_class, len(paths)))\n",
        "        for p in sample_paths:\n",
        "            try:\n",
        "                img = Image.open(p)\n",
        "                img.verify()\n",
        "            except Exception as e:\n",
        "                corrupted.append((p, str(e)))\n",
        "    return corrupted\n",
        "\n",
        "corrupted_examples = check_samples(df, n_per_class=30)\n",
        "if corrupted_examples:\n",
        "    print(\" Found corrupted or unreadable sample(s):\", len(corrupted_examples))\n",
        "    for p,err in corrupted_examples[:5]:\n",
        "        print(\"-\", p, \"=>\", err)\n",
        "else:\n",
        "    print(\" Quick corrupted-sample check passed successfully (no issues in sampled files).\")"
      ]
    },
    {
      "cell_type": "code",
      "execution_count": 17,
      "metadata": {
        "id": "BX7JGCIv4dht",
        "colab": {
          "base_uri": "https://localhost:8080/"
        },
        "outputId": "08d1dcd7-9c2f-44e4-8fef-ae57a6504e68"
      },
      "outputs": [
        {
          "output_type": "stream",
          "name": "stdout",
          "text": [
            " Metadata saved to: /content/drive/MyDrive/ai/data/df_metadata.csv\n"
          ]
        }
      ],
      "source": [
        "# Save metadata CSV\n",
        "out_csv = \"/content/drive/MyDrive/ai/data/df_metadata.csv\"\n",
        "os.makedirs(os.path.dirname(out_csv), exist_ok=True)\n",
        "df.to_csv(out_csv, index=False)\n",
        "print(\" Metadata saved to:\", out_csv)"
      ]
    },
    {
      "cell_type": "code",
      "execution_count": 18,
      "metadata": {
        "id": "4X8S6Okp6JrA",
        "colab": {
          "base_uri": "https://localhost:8080/",
          "height": 467
        },
        "outputId": "af3d7a23-9e6e-4b94-ff84-14d6e4973d2d"
      },
      "outputs": [
        {
          "output_type": "display_data",
          "data": {
            "text/plain": [
              "                                                path      label  label_idx\n",
              "0  /content/drive/MyDrive/Dataset/Dataset/benign/...     benign          0\n",
              "1  /content/drive/MyDrive/Dataset/Dataset/benign/...     benign          0\n",
              "2  /content/drive/MyDrive/Dataset/Dataset/benign/...     benign          0\n",
              "3  /content/drive/MyDrive/Dataset/Dataset/benign/...     benign          0\n",
              "4  /content/drive/MyDrive/Dataset/Dataset/benign/...     benign          0\n",
              "5  /content/drive/MyDrive/Dataset/Dataset/benign/...     benign          0\n",
              "6  /content/drive/MyDrive/Dataset/Dataset/maligna...  malignant          1\n",
              "7  /content/drive/MyDrive/Dataset/Dataset/benign/...     benign          0\n",
              "8  /content/drive/MyDrive/Dataset/Dataset/benign/...     benign          0\n",
              "9  /content/drive/MyDrive/Dataset/Dataset/maligna...  malignant          1"
            ],
            "text/html": [
              "\n",
              "  <div id=\"df-26addd56-f425-437b-a42a-22773cc7b00a\" class=\"colab-df-container\">\n",
              "    <div>\n",
              "<style scoped>\n",
              "    .dataframe tbody tr th:only-of-type {\n",
              "        vertical-align: middle;\n",
              "    }\n",
              "\n",
              "    .dataframe tbody tr th {\n",
              "        vertical-align: top;\n",
              "    }\n",
              "\n",
              "    .dataframe thead th {\n",
              "        text-align: right;\n",
              "    }\n",
              "</style>\n",
              "<table border=\"1\" class=\"dataframe\">\n",
              "  <thead>\n",
              "    <tr style=\"text-align: right;\">\n",
              "      <th></th>\n",
              "      <th>path</th>\n",
              "      <th>label</th>\n",
              "      <th>label_idx</th>\n",
              "    </tr>\n",
              "  </thead>\n",
              "  <tbody>\n",
              "    <tr>\n",
              "      <th>0</th>\n",
              "      <td>/content/drive/MyDrive/Dataset/Dataset/benign/...</td>\n",
              "      <td>benign</td>\n",
              "      <td>0</td>\n",
              "    </tr>\n",
              "    <tr>\n",
              "      <th>1</th>\n",
              "      <td>/content/drive/MyDrive/Dataset/Dataset/benign/...</td>\n",
              "      <td>benign</td>\n",
              "      <td>0</td>\n",
              "    </tr>\n",
              "    <tr>\n",
              "      <th>2</th>\n",
              "      <td>/content/drive/MyDrive/Dataset/Dataset/benign/...</td>\n",
              "      <td>benign</td>\n",
              "      <td>0</td>\n",
              "    </tr>\n",
              "    <tr>\n",
              "      <th>3</th>\n",
              "      <td>/content/drive/MyDrive/Dataset/Dataset/benign/...</td>\n",
              "      <td>benign</td>\n",
              "      <td>0</td>\n",
              "    </tr>\n",
              "    <tr>\n",
              "      <th>4</th>\n",
              "      <td>/content/drive/MyDrive/Dataset/Dataset/benign/...</td>\n",
              "      <td>benign</td>\n",
              "      <td>0</td>\n",
              "    </tr>\n",
              "    <tr>\n",
              "      <th>5</th>\n",
              "      <td>/content/drive/MyDrive/Dataset/Dataset/benign/...</td>\n",
              "      <td>benign</td>\n",
              "      <td>0</td>\n",
              "    </tr>\n",
              "    <tr>\n",
              "      <th>6</th>\n",
              "      <td>/content/drive/MyDrive/Dataset/Dataset/maligna...</td>\n",
              "      <td>malignant</td>\n",
              "      <td>1</td>\n",
              "    </tr>\n",
              "    <tr>\n",
              "      <th>7</th>\n",
              "      <td>/content/drive/MyDrive/Dataset/Dataset/benign/...</td>\n",
              "      <td>benign</td>\n",
              "      <td>0</td>\n",
              "    </tr>\n",
              "    <tr>\n",
              "      <th>8</th>\n",
              "      <td>/content/drive/MyDrive/Dataset/Dataset/benign/...</td>\n",
              "      <td>benign</td>\n",
              "      <td>0</td>\n",
              "    </tr>\n",
              "    <tr>\n",
              "      <th>9</th>\n",
              "      <td>/content/drive/MyDrive/Dataset/Dataset/maligna...</td>\n",
              "      <td>malignant</td>\n",
              "      <td>1</td>\n",
              "    </tr>\n",
              "  </tbody>\n",
              "</table>\n",
              "</div>\n",
              "    <div class=\"colab-df-buttons\">\n",
              "\n",
              "  <div class=\"colab-df-container\">\n",
              "    <button class=\"colab-df-convert\" onclick=\"convertToInteractive('df-26addd56-f425-437b-a42a-22773cc7b00a')\"\n",
              "            title=\"Convert this dataframe to an interactive table.\"\n",
              "            style=\"display:none;\">\n",
              "\n",
              "  <svg xmlns=\"http://www.w3.org/2000/svg\" height=\"24px\" viewBox=\"0 -960 960 960\">\n",
              "    <path d=\"M120-120v-720h720v720H120Zm60-500h600v-160H180v160Zm220 220h160v-160H400v160Zm0 220h160v-160H400v160ZM180-400h160v-160H180v160Zm440 0h160v-160H620v160ZM180-180h160v-160H180v160Zm440 0h160v-160H620v160Z\"/>\n",
              "  </svg>\n",
              "    </button>\n",
              "\n",
              "  <style>\n",
              "    .colab-df-container {\n",
              "      display:flex;\n",
              "      gap: 12px;\n",
              "    }\n",
              "\n",
              "    .colab-df-convert {\n",
              "      background-color: #E8F0FE;\n",
              "      border: none;\n",
              "      border-radius: 50%;\n",
              "      cursor: pointer;\n",
              "      display: none;\n",
              "      fill: #1967D2;\n",
              "      height: 32px;\n",
              "      padding: 0 0 0 0;\n",
              "      width: 32px;\n",
              "    }\n",
              "\n",
              "    .colab-df-convert:hover {\n",
              "      background-color: #E2EBFA;\n",
              "      box-shadow: 0px 1px 2px rgba(60, 64, 67, 0.3), 0px 1px 3px 1px rgba(60, 64, 67, 0.15);\n",
              "      fill: #174EA6;\n",
              "    }\n",
              "\n",
              "    .colab-df-buttons div {\n",
              "      margin-bottom: 4px;\n",
              "    }\n",
              "\n",
              "    [theme=dark] .colab-df-convert {\n",
              "      background-color: #3B4455;\n",
              "      fill: #D2E3FC;\n",
              "    }\n",
              "\n",
              "    [theme=dark] .colab-df-convert:hover {\n",
              "      background-color: #434B5C;\n",
              "      box-shadow: 0px 1px 3px 1px rgba(0, 0, 0, 0.15);\n",
              "      filter: drop-shadow(0px 1px 2px rgba(0, 0, 0, 0.3));\n",
              "      fill: #FFFFFF;\n",
              "    }\n",
              "  </style>\n",
              "\n",
              "    <script>\n",
              "      const buttonEl =\n",
              "        document.querySelector('#df-26addd56-f425-437b-a42a-22773cc7b00a button.colab-df-convert');\n",
              "      buttonEl.style.display =\n",
              "        google.colab.kernel.accessAllowed ? 'block' : 'none';\n",
              "\n",
              "      async function convertToInteractive(key) {\n",
              "        const element = document.querySelector('#df-26addd56-f425-437b-a42a-22773cc7b00a');\n",
              "        const dataTable =\n",
              "          await google.colab.kernel.invokeFunction('convertToInteractive',\n",
              "                                                    [key], {});\n",
              "        if (!dataTable) return;\n",
              "\n",
              "        const docLinkHtml = 'Like what you see? Visit the ' +\n",
              "          '<a target=\"_blank\" href=https://colab.research.google.com/notebooks/data_table.ipynb>data table notebook</a>'\n",
              "          + ' to learn more about interactive tables.';\n",
              "        element.innerHTML = '';\n",
              "        dataTable['output_type'] = 'display_data';\n",
              "        await google.colab.output.renderOutput(dataTable, element);\n",
              "        const docLink = document.createElement('div');\n",
              "        docLink.innerHTML = docLinkHtml;\n",
              "        element.appendChild(docLink);\n",
              "      }\n",
              "    </script>\n",
              "  </div>\n",
              "\n",
              "\n",
              "    <div id=\"df-788dcbdf-15f9-4801-a01c-6de6295dde99\">\n",
              "      <button class=\"colab-df-quickchart\" onclick=\"quickchart('df-788dcbdf-15f9-4801-a01c-6de6295dde99')\"\n",
              "                title=\"Suggest charts\"\n",
              "                style=\"display:none;\">\n",
              "\n",
              "<svg xmlns=\"http://www.w3.org/2000/svg\" height=\"24px\"viewBox=\"0 0 24 24\"\n",
              "     width=\"24px\">\n",
              "    <g>\n",
              "        <path d=\"M19 3H5c-1.1 0-2 .9-2 2v14c0 1.1.9 2 2 2h14c1.1 0 2-.9 2-2V5c0-1.1-.9-2-2-2zM9 17H7v-7h2v7zm4 0h-2V7h2v10zm4 0h-2v-4h2v4z\"/>\n",
              "    </g>\n",
              "</svg>\n",
              "      </button>\n",
              "\n",
              "<style>\n",
              "  .colab-df-quickchart {\n",
              "      --bg-color: #E8F0FE;\n",
              "      --fill-color: #1967D2;\n",
              "      --hover-bg-color: #E2EBFA;\n",
              "      --hover-fill-color: #174EA6;\n",
              "      --disabled-fill-color: #AAA;\n",
              "      --disabled-bg-color: #DDD;\n",
              "  }\n",
              "\n",
              "  [theme=dark] .colab-df-quickchart {\n",
              "      --bg-color: #3B4455;\n",
              "      --fill-color: #D2E3FC;\n",
              "      --hover-bg-color: #434B5C;\n",
              "      --hover-fill-color: #FFFFFF;\n",
              "      --disabled-bg-color: #3B4455;\n",
              "      --disabled-fill-color: #666;\n",
              "  }\n",
              "\n",
              "  .colab-df-quickchart {\n",
              "    background-color: var(--bg-color);\n",
              "    border: none;\n",
              "    border-radius: 50%;\n",
              "    cursor: pointer;\n",
              "    display: none;\n",
              "    fill: var(--fill-color);\n",
              "    height: 32px;\n",
              "    padding: 0;\n",
              "    width: 32px;\n",
              "  }\n",
              "\n",
              "  .colab-df-quickchart:hover {\n",
              "    background-color: var(--hover-bg-color);\n",
              "    box-shadow: 0 1px 2px rgba(60, 64, 67, 0.3), 0 1px 3px 1px rgba(60, 64, 67, 0.15);\n",
              "    fill: var(--button-hover-fill-color);\n",
              "  }\n",
              "\n",
              "  .colab-df-quickchart-complete:disabled,\n",
              "  .colab-df-quickchart-complete:disabled:hover {\n",
              "    background-color: var(--disabled-bg-color);\n",
              "    fill: var(--disabled-fill-color);\n",
              "    box-shadow: none;\n",
              "  }\n",
              "\n",
              "  .colab-df-spinner {\n",
              "    border: 2px solid var(--fill-color);\n",
              "    border-color: transparent;\n",
              "    border-bottom-color: var(--fill-color);\n",
              "    animation:\n",
              "      spin 1s steps(1) infinite;\n",
              "  }\n",
              "\n",
              "  @keyframes spin {\n",
              "    0% {\n",
              "      border-color: transparent;\n",
              "      border-bottom-color: var(--fill-color);\n",
              "      border-left-color: var(--fill-color);\n",
              "    }\n",
              "    20% {\n",
              "      border-color: transparent;\n",
              "      border-left-color: var(--fill-color);\n",
              "      border-top-color: var(--fill-color);\n",
              "    }\n",
              "    30% {\n",
              "      border-color: transparent;\n",
              "      border-left-color: var(--fill-color);\n",
              "      border-top-color: var(--fill-color);\n",
              "      border-right-color: var(--fill-color);\n",
              "    }\n",
              "    40% {\n",
              "      border-color: transparent;\n",
              "      border-right-color: var(--fill-color);\n",
              "      border-top-color: var(--fill-color);\n",
              "    }\n",
              "    60% {\n",
              "      border-color: transparent;\n",
              "      border-right-color: var(--fill-color);\n",
              "    }\n",
              "    80% {\n",
              "      border-color: transparent;\n",
              "      border-right-color: var(--fill-color);\n",
              "      border-bottom-color: var(--fill-color);\n",
              "    }\n",
              "    90% {\n",
              "      border-color: transparent;\n",
              "      border-bottom-color: var(--fill-color);\n",
              "    }\n",
              "  }\n",
              "</style>\n",
              "\n",
              "      <script>\n",
              "        async function quickchart(key) {\n",
              "          const quickchartButtonEl =\n",
              "            document.querySelector('#' + key + ' button');\n",
              "          quickchartButtonEl.disabled = true;  // To prevent multiple clicks.\n",
              "          quickchartButtonEl.classList.add('colab-df-spinner');\n",
              "          try {\n",
              "            const charts = await google.colab.kernel.invokeFunction(\n",
              "                'suggestCharts', [key], {});\n",
              "          } catch (error) {\n",
              "            console.error('Error during call to suggestCharts:', error);\n",
              "          }\n",
              "          quickchartButtonEl.classList.remove('colab-df-spinner');\n",
              "          quickchartButtonEl.classList.add('colab-df-quickchart-complete');\n",
              "        }\n",
              "        (() => {\n",
              "          let quickchartButtonEl =\n",
              "            document.querySelector('#df-788dcbdf-15f9-4801-a01c-6de6295dde99 button');\n",
              "          quickchartButtonEl.style.display =\n",
              "            google.colab.kernel.accessAllowed ? 'block' : 'none';\n",
              "        })();\n",
              "      </script>\n",
              "    </div>\n",
              "\n",
              "    </div>\n",
              "  </div>\n"
            ],
            "application/vnd.google.colaboratory.intrinsic+json": {
              "type": "dataframe",
              "summary": "{\n  \"name\": \"print(df['label']\",\n  \"rows\": 10,\n  \"fields\": [\n    {\n      \"column\": \"path\",\n      \"properties\": {\n        \"dtype\": \"string\",\n        \"num_unique_values\": 10,\n        \"samples\": [\n          \"/content/drive/MyDrive/Dataset/Dataset/benign/melanoma_99.jpg\",\n          \"/content/drive/MyDrive/Dataset/Dataset/benign/ISIC_0028710.jpg\",\n          \"/content/drive/MyDrive/Dataset/Dataset/benign/ISIC_0026750.jpg\"\n        ],\n        \"semantic_type\": \"\",\n        \"description\": \"\"\n      }\n    },\n    {\n      \"column\": \"label\",\n      \"properties\": {\n        \"dtype\": \"category\",\n        \"num_unique_values\": 2,\n        \"samples\": [\n          \"malignant\",\n          \"benign\"\n        ],\n        \"semantic_type\": \"\",\n        \"description\": \"\"\n      }\n    },\n    {\n      \"column\": \"label_idx\",\n      \"properties\": {\n        \"dtype\": \"number\",\n        \"std\": 0,\n        \"min\": 0,\n        \"max\": 1,\n        \"num_unique_values\": 2,\n        \"samples\": [\n          1,\n          0\n        ],\n        \"semantic_type\": \"\",\n        \"description\": \"\"\n      }\n    }\n  ]\n}"
            }
          },
          "metadata": {}
        },
        {
          "output_type": "stream",
          "name": "stdout",
          "text": [
            "\n",
            "Counts (sanity):\n",
            "label\n",
            "benign       13294\n",
            "malignant     6211\n",
            "Name: count, dtype: int64\n"
          ]
        }
      ],
      "source": [
        "display(df.head(10))\n",
        "print(\"\\nCounts (sanity):\")\n",
        "print(df['label'].value_counts())"
      ]
    },
    {
      "cell_type": "code",
      "execution_count": 19,
      "metadata": {
        "id": "UY4uoFC17E4w",
        "colab": {
          "base_uri": "https://localhost:8080/",
          "height": 428
        },
        "outputId": "2e98d758-113a-4304-e756-464f81c08d48"
      },
      "outputs": [
        {
          "output_type": "display_data",
          "data": {
            "text/plain": [
              "<Figure size 640x480 with 1 Axes>"
            ],
            "image/png": "[encoded data removed]"
          },
          "metadata": {}
        }
      ],
      "source": [
        "# Quick test reading data\n",
        "# Randomly load and display one sample image from the dataset\n",
        "# to verify that image paths are correct and preprocessing worked properly.\n",
        "from tensorflow.keras.preprocessing import image\n",
        "import numpy as np\n",
        "import random\n",
        "import matplotlib.pyplot as plt\n",
        "\n",
        "sample = random.choice(df['path'].tolist())\n",
        "img = image.load_img(sample, target_size=(224,224))\n",
        "plt.imshow(img)\n",
        "plt.axis('off')\n",
        "plt.title(sample.split('/')[-2])\n",
        "plt.show()"
      ]
    },
    {
      "cell_type": "markdown",
      "metadata": {
        "id": "Exo-cHl6Ce_n"
      },
      "source": [
        "\n",
        "\n",
        "---\n",
        "\n"
      ]
    },
    {
      "cell_type": "markdown",
      "metadata": {
        "id": "Mj7gChfDChNO"
      },
      "source": [
        "## **Part Two: Model Training and Evaluation**"
      ]
    },
    {
      "cell_type": "code",
      "execution_count": 20,
      "metadata": {
        "id": "d8hnWIppDKDF"
      },
      "outputs": [],
      "source": [
        "# Import libraries\n",
        "import os, math, gc\n",
        "import numpy as np\n",
        "import pandas as pd\n",
        "from sklearn.model_selection import StratifiedKFold\n",
        "from sklearn.utils.class_weight import compute_class_weight\n",
        "from sklearn.metrics import accuracy_score, precision_score, recall_score, f1_score, classification_report, confusion_matrix\n",
        "import tensorflow as tf\n",
        "from tensorflow.keras.preprocessing.image import ImageDataGenerator\n",
        "from tensorflow.keras.applications import ResNet50\n",
        "from tensorflow.keras.layers import GlobalAveragePooling2D, Dense, Dropout\n",
        "from tensorflow.keras.models import Model\n",
        "from tensorflow.keras.callbacks import EarlyStopping, ModelCheckpoint, ReduceLROnPlateau\n",
        "from tensorflow.keras.callbacks import CSVLogger\n",
        "\n",
        "# Parameters\n",
        "# Defines image size, batch size, epochs, and model saving directory\n",
        "DRIVE_BASE = \"/content/drive/MyDrive\"\n",
        "DF_PATH = os.path.join(DRIVE_BASE, \"ai/data/df_metadata.csv\")\n",
        "MODELS_DIR = os.path.join(DRIVE_BASE, \"DermAI_models_resnet\")\n",
        "os.makedirs(MODELS_DIR, exist_ok=True)\n",
        "\n",
        "IMG_SIZE = (224,224)\n",
        "BATCH_SIZE = 16\n",
        "EPOCHS = 15\n",
        "N_FOLDS = 3\n",
        "RANDOM_STATE = 42\n",
        "VERBOSE = 1"
      ]
    },
    {
      "cell_type": "code",
      "execution_count": 21,
      "metadata": {
        "id": "I3NIU_7RESJF"
      },
      "outputs": [],
      "source": [
        "# Set random seeds for reproducibility\n",
        "np.random.seed(RANDOM_STATE)\n",
        "tf.random.set_seed(RANDOM_STATE)\n",
        "random.seed(RANDOM_STATE)"
      ]
    },
    {
      "cell_type": "code",
      "execution_count": 22,
      "metadata": {
        "id": "_emNvBXnEcr0",
        "colab": {
          "base_uri": "https://localhost:8080/",
          "height": 537
        },
        "outputId": "d8341d68-2f0c-44c6-d8bc-cb2a81a91be5"
      },
      "outputs": [
        {
          "output_type": "stream",
          "name": "stdout",
          "text": [
            "Loaded df: /content/drive/MyDrive/ai/data/df_metadata.csv\n",
            "Total samples: 19505\n",
            "\n",
            "Label distribution:\n",
            "label\n",
            "benign       13294\n",
            "malignant     6211\n",
            "Name: count, dtype: int64\n",
            "\n",
            "First 10 rows:\n"
          ]
        },
        {
          "output_type": "display_data",
          "data": {
            "text/plain": [
              "                                                path      label  label_idx\n",
              "0  /content/drive/MyDrive/Dataset/Dataset/benign/...     benign          0\n",
              "1  /content/drive/MyDrive/Dataset/Dataset/benign/...     benign          0\n",
              "2  /content/drive/MyDrive/Dataset/Dataset/benign/...     benign          0\n",
              "3  /content/drive/MyDrive/Dataset/Dataset/benign/...     benign          0\n",
              "4  /content/drive/MyDrive/Dataset/Dataset/benign/...     benign          0\n",
              "5  /content/drive/MyDrive/Dataset/Dataset/benign/...     benign          0\n",
              "6  /content/drive/MyDrive/Dataset/Dataset/maligna...  malignant          1\n",
              "7  /content/drive/MyDrive/Dataset/Dataset/benign/...     benign          0\n",
              "8  /content/drive/MyDrive/Dataset/Dataset/benign/...     benign          0\n",
              "9  /content/drive/MyDrive/Dataset/Dataset/maligna...  malignant          1"
            ],
            "text/html": [
              "\n",
              "  <div id=\"df-c3261128-ee1e-4b99-97fa-3ab13b1e92cd\" class=\"colab-df-container\">\n",
              "    <div>\n",
              "<style scoped>\n",
              "    .dataframe tbody tr th:only-of-type {\n",
              "        vertical-align: middle;\n",
              "    }\n",
              "\n",
              "    .dataframe tbody tr th {\n",
              "        vertical-align: top;\n",
              "    }\n",
              "\n",
              "    .dataframe thead th {\n",
              "        text-align: right;\n",
              "    }\n",
              "</style>\n",
              "<table border=\"1\" class=\"dataframe\">\n",
              "  <thead>\n",
              "    <tr style=\"text-align: right;\">\n",
              "      <th></th>\n",
              "      <th>path</th>\n",
              "      <th>label</th>\n",
              "      <th>label_idx</th>\n",
              "    </tr>\n",
              "  </thead>\n",
              "  <tbody>\n",
              "    <tr>\n",
              "      <th>0</th>\n",
              "      <td>/content/drive/MyDrive/Dataset/Dataset/benign/...</td>\n",
              "      <td>benign</td>\n",
              "      <td>0</td>\n",
              "    </tr>\n",
              "    <tr>\n",
              "      <th>1</th>\n",
              "      <td>/content/drive/MyDrive/Dataset/Dataset/benign/...</td>\n",
              "      <td>benign</td>\n",
              "      <td>0</td>\n",
              "    </tr>\n",
              "    <tr>\n",
              "      <th>2</th>\n",
              "      <td>/content/drive/MyDrive/Dataset/Dataset/benign/...</td>\n",
              "      <td>benign</td>\n",
              "      <td>0</td>\n",
              "    </tr>\n",
              "    <tr>\n",
              "      <th>3</th>\n",
              "      <td>/content/drive/MyDrive/Dataset/Dataset/benign/...</td>\n",
              "      <td>benign</td>\n",
              "      <td>0</td>\n",
              "    </tr>\n",
              "    <tr>\n",
              "      <th>4</th>\n",
              "      <td>/content/drive/MyDrive/Dataset/Dataset/benign/...</td>\n",
              "      <td>benign</td>\n",
              "      <td>0</td>\n",
              "    </tr>\n",
              "    <tr>\n",
              "      <th>5</th>\n",
              "      <td>/content/drive/MyDrive/Dataset/Dataset/benign/...</td>\n",
              "      <td>benign</td>\n",
              "      <td>0</td>\n",
              "    </tr>\n",
              "    <tr>\n",
              "      <th>6</th>\n",
              "      <td>/content/drive/MyDrive/Dataset/Dataset/maligna...</td>\n",
              "      <td>malignant</td>\n",
              "      <td>1</td>\n",
              "    </tr>\n",
              "    <tr>\n",
              "      <th>7</th>\n",
              "      <td>/content/drive/MyDrive/Dataset/Dataset/benign/...</td>\n",
              "      <td>benign</td>\n",
              "      <td>0</td>\n",
              "    </tr>\n",
              "    <tr>\n",
              "      <th>8</th>\n",
              "      <td>/content/drive/MyDrive/Dataset/Dataset/benign/...</td>\n",
              "      <td>benign</td>\n",
              "      <td>0</td>\n",
              "    </tr>\n",
              "    <tr>\n",
              "      <th>9</th>\n",
              "      <td>/content/drive/MyDrive/Dataset/Dataset/maligna...</td>\n",
              "      <td>malignant</td>\n",
              "      <td>1</td>\n",
              "    </tr>\n",
              "  </tbody>\n",
              "</table>\n",
              "</div>\n",
              "    <div class=\"colab-df-buttons\">\n",
              "\n",
              "  <div class=\"colab-df-container\">\n",
              "    <button class=\"colab-df-convert\" onclick=\"convertToInteractive('df-c3261128-ee1e-4b99-97fa-3ab13b1e92cd')\"\n",
              "            title=\"Convert this dataframe to an interactive table.\"\n",
              "            style=\"display:none;\">\n",
              "\n",
              "  <svg xmlns=\"http://www.w3.org/2000/svg\" height=\"24px\" viewBox=\"0 -960 960 960\">\n",
              "    <path d=\"M120-120v-720h720v720H120Zm60-500h600v-160H180v160Zm220 220h160v-160H400v160Zm0 220h160v-160H400v160ZM180-400h160v-160H180v160Zm440 0h160v-160H620v160ZM180-180h160v-160H180v160Zm440 0h160v-160H620v160Z\"/>\n",
              "  </svg>\n",
              "    </button>\n",
              "\n",
              "  <style>\n",
              "    .colab-df-container {\n",
              "      display:flex;\n",
              "      gap: 12px;\n",
              "    }\n",
              "\n",
              "    .colab-df-convert {\n",
              "      background-color: #E8F0FE;\n",
              "      border: none;\n",
              "      border-radius: 50%;\n",
              "      cursor: pointer;\n",
              "      display: none;\n",
              "      fill: #1967D2;\n",
              "      height: 32px;\n",
              "      padding: 0 0 0 0;\n",
              "      width: 32px;\n",
              "    }\n",
              "\n",
              "    .colab-df-convert:hover {\n",
              "      background-color: #E2EBFA;\n",
              "      box-shadow: 0px 1px 2px rgba(60, 64, 67, 0.3), 0px 1px 3px 1px rgba(60, 64, 67, 0.15);\n",
              "      fill: #174EA6;\n",
              "    }\n",
              "\n",
              "    .colab-df-buttons div {\n",
              "      margin-bottom: 4px;\n",
              "    }\n",
              "\n",
              "    [theme=dark] .colab-df-convert {\n",
              "      background-color: #3B4455;\n",
              "      fill: #D2E3FC;\n",
              "    }\n",
              "\n",
              "    [theme=dark] .colab-df-convert:hover {\n",
              "      background-color: #434B5C;\n",
              "      box-shadow: 0px 1px 3px 1px rgba(0, 0, 0, 0.15);\n",
              "      filter: drop-shadow(0px 1px 2px rgba(0, 0, 0, 0.3));\n",
              "      fill: #FFFFFF;\n",
              "    }\n",
              "  </style>\n",
              "\n",
              "    <script>\n",
              "      const buttonEl =\n",
              "        document.querySelector('#df-c3261128-ee1e-4b99-97fa-3ab13b1e92cd button.colab-df-convert');\n",
              "      buttonEl.style.display =\n",
              "        google.colab.kernel.accessAllowed ? 'block' : 'none';\n",
              "\n",
              "      async function convertToInteractive(key) {\n",
              "        const element = document.querySelector('#df-c3261128-ee1e-4b99-97fa-3ab13b1e92cd');\n",
              "        const dataTable =\n",
              "          await google.colab.kernel.invokeFunction('convertToInteractive',\n",
              "                                                    [key], {});\n",
              "        if (!dataTable) return;\n",
              "\n",
              "        const docLinkHtml = 'Like what you see? Visit the ' +\n",
              "          '<a target=\"_blank\" href=https://colab.research.google.com/notebooks/data_table.ipynb>data table notebook</a>'\n",
              "          + ' to learn more about interactive tables.';\n",
              "        element.innerHTML = '';\n",
              "        dataTable['output_type'] = 'display_data';\n",
              "        await google.colab.output.renderOutput(dataTable, element);\n",
              "        const docLink = document.createElement('div');\n",
              "        docLink.innerHTML = docLinkHtml;\n",
              "        element.appendChild(docLink);\n",
              "      }\n",
              "    </script>\n",
              "  </div>\n",
              "\n",
              "\n",
              "    <div id=\"df-fa084fee-e852-41a1-a4cb-b8721c311f30\">\n",
              "      <button class=\"colab-df-quickchart\" onclick=\"quickchart('df-fa084fee-e852-41a1-a4cb-b8721c311f30')\"\n",
              "                title=\"Suggest charts\"\n",
              "                style=\"display:none;\">\n",
              "\n",
              "<svg xmlns=\"http://www.w3.org/2000/svg\" height=\"24px\"viewBox=\"0 0 24 24\"\n",
              "     width=\"24px\">\n",
              "    <g>\n",
              "        <path d=\"M19 3H5c-1.1 0-2 .9-2 2v14c0 1.1.9 2 2 2h14c1.1 0 2-.9 2-2V5c0-1.1-.9-2-2-2zM9 17H7v-7h2v7zm4 0h-2V7h2v10zm4 0h-2v-4h2v4z\"/>\n",
              "    </g>\n",
              "</svg>\n",
              "      </button>\n",
              "\n",
              "<style>\n",
              "  .colab-df-quickchart {\n",
              "      --bg-color: #E8F0FE;\n",
              "      --fill-color: #1967D2;\n",
              "      --hover-bg-color: #E2EBFA;\n",
              "      --hover-fill-color: #174EA6;\n",
              "      --disabled-fill-color: #AAA;\n",
              "      --disabled-bg-color: #DDD;\n",
              "  }\n",
              "\n",
              "  [theme=dark] .colab-df-quickchart {\n",
              "      --bg-color: #3B4455;\n",
              "      --fill-color: #D2E3FC;\n",
              "      --hover-bg-color: #434B5C;\n",
              "      --hover-fill-color: #FFFFFF;\n",
              "      --disabled-bg-color: #3B4455;\n",
              "      --disabled-fill-color: #666;\n",
              "  }\n",
              "\n",
              "  .colab-df-quickchart {\n",
              "    background-color: var(--bg-color);\n",
              "    border: none;\n",
              "    border-radius: 50%;\n",
              "    cursor: pointer;\n",
              "    display: none;\n",
              "    fill: var(--fill-color);\n",
              "    height: 32px;\n",
              "    padding: 0;\n",
              "    width: 32px;\n",
              "  }\n",
              "\n",
              "  .colab-df-quickchart:hover {\n",
              "    background-color: var(--hover-bg-color);\n",
              "    box-shadow: 0 1px 2px rgba(60, 64, 67, 0.3), 0 1px 3px 1px rgba(60, 64, 67, 0.15);\n",
              "    fill: var(--button-hover-fill-color);\n",
              "  }\n",
              "\n",
              "  .colab-df-quickchart-complete:disabled,\n",
              "  .colab-df-quickchart-complete:disabled:hover {\n",
              "    background-color: var(--disabled-bg-color);\n",
              "    fill: var(--disabled-fill-color);\n",
              "    box-shadow: none;\n",
              "  }\n",
              "\n",
              "  .colab-df-spinner {\n",
              "    border: 2px solid var(--fill-color);\n",
              "    border-color: transparent;\n",
              "    border-bottom-color: var(--fill-color);\n",
              "    animation:\n",
              "      spin 1s steps(1) infinite;\n",
              "  }\n",
              "\n",
              "  @keyframes spin {\n",
              "    0% {\n",
              "      border-color: transparent;\n",
              "      border-bottom-color: var(--fill-color);\n",
              "      border-left-color: var(--fill-color);\n",
              "    }\n",
              "    20% {\n",
              "      border-color: transparent;\n",
              "      border-left-color: var(--fill-color);\n",
              "      border-top-color: var(--fill-color);\n",
              "    }\n",
              "    30% {\n",
              "      border-color: transparent;\n",
              "      border-left-color: var(--fill-color);\n",
              "      border-top-color: var(--fill-color);\n",
              "      border-right-color: var(--fill-color);\n",
              "    }\n",
              "    40% {\n",
              "      border-color: transparent;\n",
              "      border-right-color: var(--fill-color);\n",
              "      border-top-color: var(--fill-color);\n",
              "    }\n",
              "    60% {\n",
              "      border-color: transparent;\n",
              "      border-right-color: var(--fill-color);\n",
              "    }\n",
              "    80% {\n",
              "      border-color: transparent;\n",
              "      border-right-color: var(--fill-color);\n",
              "      border-bottom-color: var(--fill-color);\n",
              "    }\n",
              "    90% {\n",
              "      border-color: transparent;\n",
              "      border-bottom-color: var(--fill-color);\n",
              "    }\n",
              "  }\n",
              "</style>\n",
              "\n",
              "      <script>\n",
              "        async function quickchart(key) {\n",
              "          const quickchartButtonEl =\n",
              "            document.querySelector('#' + key + ' button');\n",
              "          quickchartButtonEl.disabled = true;  // To prevent multiple clicks.\n",
              "          quickchartButtonEl.classList.add('colab-df-spinner');\n",
              "          try {\n",
              "            const charts = await google.colab.kernel.invokeFunction(\n",
              "                'suggestCharts', [key], {});\n",
              "          } catch (error) {\n",
              "            console.error('Error during call to suggestCharts:', error);\n",
              "          }\n",
              "          quickchartButtonEl.classList.remove('colab-df-spinner');\n",
              "          quickchartButtonEl.classList.add('colab-df-quickchart-complete');\n",
              "        }\n",
              "        (() => {\n",
              "          let quickchartButtonEl =\n",
              "            document.querySelector('#df-fa084fee-e852-41a1-a4cb-b8721c311f30 button');\n",
              "          quickchartButtonEl.style.display =\n",
              "            google.colab.kernel.accessAllowed ? 'block' : 'none';\n",
              "        })();\n",
              "      </script>\n",
              "    </div>\n",
              "\n",
              "    </div>\n",
              "  </div>\n"
            ],
            "application/vnd.google.colaboratory.intrinsic+json": {
              "type": "dataframe",
              "summary": "{\n  \"name\": \"y = df['label_idx']\",\n  \"rows\": 10,\n  \"fields\": [\n    {\n      \"column\": \"path\",\n      \"properties\": {\n        \"dtype\": \"string\",\n        \"num_unique_values\": 10,\n        \"samples\": [\n          \"/content/drive/MyDrive/Dataset/Dataset/benign/melanoma_99.jpg\",\n          \"/content/drive/MyDrive/Dataset/Dataset/benign/ISIC_0028710.jpg\",\n          \"/content/drive/MyDrive/Dataset/Dataset/benign/ISIC_0026750.jpg\"\n        ],\n        \"semantic_type\": \"\",\n        \"description\": \"\"\n      }\n    },\n    {\n      \"column\": \"label\",\n      \"properties\": {\n        \"dtype\": \"category\",\n        \"num_unique_values\": 2,\n        \"samples\": [\n          \"malignant\",\n          \"benign\"\n        ],\n        \"semantic_type\": \"\",\n        \"description\": \"\"\n      }\n    },\n    {\n      \"column\": \"label_idx\",\n      \"properties\": {\n        \"dtype\": \"number\",\n        \"std\": 0,\n        \"min\": 0,\n        \"max\": 1,\n        \"num_unique_values\": 2,\n        \"samples\": [\n          1,\n          0\n        ],\n        \"semantic_type\": \"\",\n        \"description\": \"\"\n      }\n    }\n  ]\n}"
            }
          },
          "metadata": {}
        }
      ],
      "source": [
        "# Read & Inspect Metadata\n",
        "meta_csv = \"/content/drive/MyDrive/ai/data/df_metadata.csv\"\n",
        "df = pd.read_csv(meta_csv)\n",
        "\n",
        "print(\"Loaded df:\", meta_csv)\n",
        "print(\"Total samples:\", len(df))\n",
        "print(\"\\nLabel distribution:\")\n",
        "print(df['label'].value_counts())\n",
        "print(\"\\nFirst 10 rows:\")\n",
        "display(df.head(10))\n",
        "\n",
        "# Prepare X and y for training\n",
        "X = df['path'].values\n",
        "y = df['label_idx'].values"
      ]
    },
    {
      "cell_type": "markdown",
      "metadata": {
        "id": "p5N0CPqKE9Ms"
      },
      "source": [
        "Data Generators"
      ]
    },
    {
      "cell_type": "markdown",
      "metadata": {
        "id": "aNTmqGopho8M"
      },
      "source": [
        "Prepare image generators for training and validation.\n",
        "Training generator applies data augmentation to improve model generalization, while validation generator only rescales pixel values.\n",
        "Tralies moderate augmentation; validation only rescales.ining generator app"
      ]
    },
    {
      "cell_type": "code",
      "execution_count": 23,
      "metadata": {
        "id": "nKyxJfbVFAhQ"
      },
      "outputs": [],
      "source": [
        "# Data Generators\n",
        "from tensorflow.keras.preprocessing.image import ImageDataGenerator\n",
        "\n",
        "train_datagen = ImageDataGenerator(\n",
        "    rescale=1./255,\n",
        "    rotation_range=10,\n",
        "    width_shift_range=0.05,\n",
        "    height_shift_range=0.05,\n",
        "    zoom_range=0.1,\n",
        "    horizontal_flip=True,\n",
        "    fill_mode='nearest'\n",
        ")\n",
        "\n",
        "val_datagen = ImageDataGenerator(rescale=1./255)"
      ]
    },
    {
      "cell_type": "markdown",
      "metadata": {
        "id": "IYJjSx-Ky7yh"
      },
      "source": [
        "\n",
        "\n",
        "---\n",
        "\n"
      ]
    },
    {
      "cell_type": "markdown",
      "metadata": {
        "id": "OsmmzHpuy93r"
      },
      "source": [
        "\n",
        "\n",
        "---\n",
        "\n"
      ]
    },
    {
      "cell_type": "markdown",
      "metadata": {
        "id": "mMDmGUZ8Fy7q"
      },
      "source": [
        "Model Building"
      ]
    },
    {
      "cell_type": "code",
      "execution_count": 24,
      "metadata": {
        "id": "LkR6aL9QFxkH"
      },
      "outputs": [],
      "source": [
        "#  Build ResNet binary head (fine-tune last N layers)\n",
        "from tensorflow.keras.applications import ResNet50\n",
        "from tensorflow.keras.layers import GlobalAveragePooling2D, Dense, Dropout\n",
        "from tensorflow.keras import mixed_precision\n",
        "\n",
        "# ensure mixed precision final output safe (if used)\n",
        "# mixed_precision.set_global_policy('mixed_float16')  # already set earlier if used\n",
        "\n",
        "def build_resnet_binary(input_shape=(224,224,3), unfreeze_last_n=40):\n",
        "    base = ResNet50(weights='imagenet', include_top=False, input_shape=input_shape)\n",
        "    # freeze all\n",
        "    for layer in base.layers:\n",
        "        layer.trainable = False\n",
        "    # unfreeze last N layers except BatchNorm for stability\n",
        "    for layer in base.layers[-unfreeze_last_n:]:\n",
        "        if 'batch_normalization' in layer.name:\n",
        "            layer.trainable = False\n",
        "        else:\n",
        "            layer.trainable = True\n",
        "\n",
        "    x = GlobalAveragePooling2D()(base.output)\n",
        "    x = Dropout(0.4)(x)\n",
        "    x = Dense(512, activation='relu')(x)\n",
        "    x = Dropout(0.3)(x)\n",
        "    outputs = Dense(1, activation='sigmoid', dtype='float32')(x)  # float32 output\n",
        "    model = Model(inputs=base.input, outputs=outputs)\n",
        "    model.compile(optimizer=tf.keras.optimizers.Adam(1e-5),\n",
        "                  loss='binary_crossentropy',\n",
        "                  metrics=['accuracy'])\n",
        "    return model"
      ]
    },
    {
      "cell_type": "markdown",
      "metadata": {
        "id": "HgzHe6mtGMfF"
      },
      "source": [
        "\n",
        "\n",
        "---\n",
        "\n"
      ]
    },
    {
      "cell_type": "markdown",
      "metadata": {
        "id": "xiAGg0FDdM15"
      },
      "source": [
        "\n",
        "\n",
        "---\n",
        "\n"
      ]
    },
    {
      "cell_type": "code",
      "execution_count": 25,
      "metadata": {
        "id": "jCiRJ5_UxN9Y"
      },
      "outputs": [],
      "source": [
        "# Utility Functions for Dataset Loading & Preprocessing\n",
        "from sklearn.utils.class_weight import compute_class_weight\n",
        "import numpy as np\n",
        "\n",
        "def compute_weights(y_array):\n",
        "    classes = np.unique(y_array)\n",
        "    cw = compute_class_weight('balanced', classes=classes, y=y_array)\n",
        "    return {int(c): float(w) for c,w in zip(classes, cw)}\n",
        "\n",
        "def print_generator_info(gen, name=\"generator\"):\n",
        "    print(f\"{name} class_indices:\", getattr(gen, 'class_indices', None))\n",
        "    if hasattr(gen, 'classes'):\n",
        "        u,c = np.unique(gen.classes, return_counts=True)\n",
        "        print(f\"{name} counts:\", dict(zip(u,c)))"
      ]
    },
    {
      "cell_type": "markdown",
      "metadata": {
        "id": "wuNYik4jNowX"
      },
      "source": [
        "\n",
        "\n",
        "---\n",
        "\n"
      ]
    },
    {
      "cell_type": "markdown",
      "metadata": {
        "id": "epO8C1qSNqN1"
      },
      "source": [
        "\n",
        "\n",
        "---\n",
        "\n"
      ]
    },
    {
      "cell_type": "markdown",
      "metadata": {
        "id": "E8hl0uH_ho8Z"
      },
      "source": [
        "For each fold:\n",
        "• Split data into training and validation subsets while preserving class balance.\n",
        "• Build and train a ResNet50 model on the training subset.\n",
        "• Evaluate model performance on the validation subset (Accuracy, Precision, Recall, F1).\n",
        "• Save best model weights and record per-fold metrics.\n",
        "And after that Results from all folds are stored in 'fold_metrics' for later summary and analysis."
      ]
    },
    {
      "cell_type": "code",
      "execution_count": 32,
      "metadata": {
        "id": "bJidgjQUGN7n"
      },
      "outputs": [],
      "source": [
        "import math, gc, os\n",
        "import pandas as pd\n",
        "from sklearn.model_selection import StratifiedKFold\n",
        "from sklearn.metrics import classification_report, confusion_matrix, accuracy_score, precision_score, recall_score, f1_score\n",
        "from tensorflow.keras.callbacks import EarlyStopping, ModelCheckpoint, ReduceLROnPlateau, CSVLogger\n",
        "\n",
        "df = pd.read_csv('/content/drive/MyDrive/ai/data/df_metadata.csv')\n",
        "df_cv = df.copy()\n",
        "\n",
        "x = df_cv['path'].values\n",
        "y = df_cv['label_idx'].values\n",
        "\n",
        "skf = StratifiedKFold(n_splits=3, shuffle=True, random_state=42)\n",
        "splits = list(skf.split(X, y))"
      ]
    },
    {
      "cell_type": "markdown",
      "source": [
        "##### Fold 1"
      ],
      "metadata": {
        "id": "NY05V3Zpv2d8"
      }
    },
    {
      "cell_type": "code",
      "source": [
        "# Fold 1\n",
        "# Model Training\n",
        "fold_no = 1\n",
        "train_idx, val_idx = splits[0]\n",
        "train_df = pd.DataFrame({'path': X[train_idx], 'label_idx': y[train_idx]})\n",
        "val_df   = pd.DataFrame({'path': X[val_idx],   'label_idx': y[val_idx]})\n",
        "\n",
        "class_weight = compute_weights(train_df['label_idx'].values)\n",
        "print(\"class_weight:\", class_weight)\n",
        "\n",
        "train_gen = train_datagen.flow_from_dataframe(train_df, x_col='path', y_col='label_idx',\n",
        "                                              target_size=IMG_SIZE, class_mode='raw',\n",
        "                                              batch_size=BATCH_SIZE, shuffle=True)\n",
        "val_gen = val_datagen.flow_from_dataframe(val_df, x_col='path', y_col='label_idx',\n",
        "                                          target_size=IMG_SIZE, class_mode='raw',\n",
        "                                          batch_size=BATCH_SIZE, shuffle=False)\n",
        "\n",
        "print_generator_info(train_gen, \"train_gen\")\n",
        "print_generator_info(val_gen, \"val_gen\")\n",
        "\n",
        "model = build_resnet_binary(input_shape=(IMG_SIZE[0], IMG_SIZE[1], 3), unfreeze_last_n=40)\n",
        "\n",
        "ckpt_path = os.path.join(MODELS_DIR, f\"best_resnet_fold{fold_no}.keras\")\n",
        "csv_log_path = os.path.join(MODELS_DIR, f\"training_log_fold{fold_no}.csv\")\n",
        "callbacks = [\n",
        "    EarlyStopping(monitor='val_loss', patience=5, restore_best_weights=True, verbose=1),\n",
        "    ModelCheckpoint(ckpt_path, monitor='val_loss', save_best_only=True, verbose=1),\n",
        "    ReduceLROnPlateau(monitor='val_loss', factor=0.5, patience=3, verbose=1),\n",
        "    CSVLogger(csv_log_path)\n",
        "]\n",
        "\n",
        "steps_per_epoch = math.ceil(len(train_df) / BATCH_SIZE)\n",
        "val_steps = math.ceil(len(val_df) / BATCH_SIZE)\n",
        "\n",
        "history = model.fit(\n",
        "    train_gen,\n",
        "    epochs=EPOCHS,\n",
        "    validation_data=val_gen,\n",
        "    steps_per_epoch=steps_per_epoch,\n",
        "    validation_steps=val_steps,\n",
        "    class_weight=class_weight,\n",
        "    callbacks=callbacks,\n",
        "    verbose=VERBOSE\n",
        ")\n",
        "\n",
        "best = tf.keras.models.load_model(ckpt_path)\n",
        "val_gen_eval = val_datagen.flow_from_dataframe(val_df, x_col='path', y_col='label_idx',\n",
        "                                               target_size=IMG_SIZE, class_mode='raw',\n",
        "                                               batch_size=BATCH_SIZE, shuffle=False)\n",
        "preds_prob = best.predict(val_gen_eval, steps=val_steps, verbose=VERBOSE)\n",
        "preds = (preds_prob.ravel() > 0.5).astype(int)\n",
        "true = val_df['label_idx'].values[:len(preds)]\n",
        "\n",
        "acc = accuracy_score(true, preds)\n",
        "prec = precision_score(true, preds, zero_division=0)\n",
        "rec = recall_score(true, preds, zero_division=0)\n",
        "f1 = f1_score(true, preds, zero_division=0)\n",
        "\n",
        "print(f\"Fold {fold_no} -> acc:{acc:.4f}, prec:{prec:.4f}, rec:{rec:.4f}, f1:{f1:.4f}\")\n",
        "print(classification_report(true, preds, target_names=['benign','malignant'], zero_division=0))\n",
        "print(\"Confusion matrix:\\n\", confusion_matrix(true, preds))\n",
        "\n",
        "tf.keras.backend.clear_session()\n",
        "gc.collect()"
      ],
      "metadata": {
        "id": "nrH4kmMFv1cy",
        "colab": {
          "base_uri": "https://localhost:8080/"
        },
        "outputId": "741051e1-b441-4374-ba72-ed361b5d17c8"
      },
      "execution_count": null,
      "outputs": [
        {
          "output_type": "stream",
          "name": "stdout",
          "text": [
            "class_weight: {0: 0.7336380049650192, 1: 1.5700313933832408}\n",
            "Found 13003 validated image filenames.\n",
            "Found 6502 validated image filenames.\n",
            "train_gen class_indices: None\n",
            "val_gen class_indices: None\n",
            "Downloading data from https://storage.googleapis.com/tensorflow/keras-applications/resnet/resnet50_weights_tf_dim_ordering_tf_kernels_notop.h5\n",
            "\u001b[1m94765736/94765736\u001b[0m \u001b[32m━━━━━━━━━━━━━━━━━━━━\u001b[0m\u001b[37m\u001b[0m \u001b[1m3s\u001b[0m 0us/step\n",
            "Epoch 1/15\n",
            "\u001b[1m813/813\u001b[0m \u001b[32m━━━━━━━━━━━━━━━━━━━━\u001b[0m\u001b[37m\u001b[0m \u001b[1m0s\u001b[0m 280ms/step - accuracy: 0.7397 - loss: 0.5301\n",
            "Epoch 1: val_loss improved from inf to 1.07790, saving model to /content/drive/MyDrive/DermAI_models_resnet/best_resnet_fold1.keras\n",
            "\u001b[1m813/813\u001b[0m \u001b[32m━━━━━━━━━━━━━━━━━━━━\u001b[0m\u001b[37m\u001b[0m \u001b[1m292s\u001b[0m 327ms/step - accuracy: 0.7397 - loss: 0.5301 - val_accuracy: 0.7115 - val_loss: 1.0779 - learning_rate: 1.0000e-05\n",
            "Epoch 2/15\n",
            "\u001b[1m813/813\u001b[0m \u001b[32m━━━━━━━━━━━━━━━━━━━━\u001b[0m\u001b[37m\u001b[0m \u001b[1m0s\u001b[0m 263ms/step - accuracy: 0.7795 - loss: 0.4438\n",
            "Epoch 2: val_loss improved from 1.07790 to 0.73127, saving model to /content/drive/MyDrive/DermAI_models_resnet/best_resnet_fold1.keras\n",
            "\u001b[1m813/813\u001b[0m \u001b[32m━━━━━━━━━━━━━━━━━━━━\u001b[0m\u001b[37m\u001b[0m \u001b[1m246s\u001b[0m 302ms/step - accuracy: 0.7795 - loss: 0.4438 - val_accuracy: 0.7627 - val_loss: 0.7313 - learning_rate: 1.0000e-05\n",
            "Epoch 3/15\n",
            "\u001b[1m813/813\u001b[0m \u001b[32m━━━━━━━━━━━━━━━━━━━━\u001b[0m\u001b[37m\u001b[0m \u001b[1m0s\u001b[0m 265ms/step - accuracy: 0.7904 - loss: 0.4254\n",
            "Epoch 3: val_loss improved from 0.73127 to 0.36076, saving model to /content/drive/MyDrive/DermAI_models_resnet/best_resnet_fold1.keras\n",
            "\u001b[1m813/813\u001b[0m \u001b[32m━━━━━━━━━━━━━━━━━━━━\u001b[0m\u001b[37m\u001b[0m \u001b[1m246s\u001b[0m 302ms/step - accuracy: 0.7904 - loss: 0.4254 - val_accuracy: 0.8257 - val_loss: 0.3608 - learning_rate: 1.0000e-05\n",
            "Epoch 4/15\n",
            "\u001b[1m813/813\u001b[0m \u001b[32m━━━━━━━━━━━━━━━━━━━━\u001b[0m\u001b[37m\u001b[0m \u001b[1m0s\u001b[0m 261ms/step - accuracy: 0.7799 - loss: 0.4312\n",
            "Epoch 4: val_loss improved from 0.36076 to 0.35668, saving model to /content/drive/MyDrive/DermAI_models_resnet/best_resnet_fold1.keras\n",
            "\u001b[1m813/813\u001b[0m \u001b[32m━━━━━━━━━━━━━━━━━━━━\u001b[0m\u001b[37m\u001b[0m \u001b[1m258s\u001b[0m 298ms/step - accuracy: 0.7800 - loss: 0.4312 - val_accuracy: 0.8293 - val_loss: 0.3567 - learning_rate: 1.0000e-05\n",
            "Epoch 5/15\n",
            "\u001b[1m813/813\u001b[0m \u001b[32m━━━━━━━━━━━━━━━━━━━━\u001b[0m\u001b[37m\u001b[0m \u001b[1m0s\u001b[0m 264ms/step - accuracy: 0.7890 - loss: 0.4213\n",
            "Epoch 5: val_loss did not improve from 0.35668\n",
            "\u001b[1m813/813\u001b[0m \u001b[32m━━━━━━━━━━━━━━━━━━━━\u001b[0m\u001b[37m\u001b[0m \u001b[1m244s\u001b[0m 300ms/step - accuracy: 0.7890 - loss: 0.4213 - val_accuracy: 0.7261 - val_loss: 1.8402 - learning_rate: 1.0000e-05\n",
            "Epoch 6/15\n",
            "\u001b[1m813/813\u001b[0m \u001b[32m━━━━━━━━━━━━━━━━━━━━\u001b[0m\u001b[37m\u001b[0m \u001b[1m0s\u001b[0m 260ms/step - accuracy: 0.7878 - loss: 0.4205\n",
            "Epoch 6: val_loss did not improve from 0.35668\n",
            "\u001b[1m813/813\u001b[0m \u001b[32m━━━━━━━━━━━━━━━━━━━━\u001b[0m\u001b[37m\u001b[0m \u001b[1m240s\u001b[0m 295ms/step - accuracy: 0.7878 - loss: 0.4205 - val_accuracy: 0.8301 - val_loss: 0.4100 - learning_rate: 1.0000e-05\n",
            "Epoch 7/15\n",
            "\u001b[1m813/813\u001b[0m \u001b[32m━━━━━━━━━━━━━━━━━━━━\u001b[0m\u001b[37m\u001b[0m \u001b[1m0s\u001b[0m 259ms/step - accuracy: 0.7931 - loss: 0.4072\n",
            "Epoch 7: val_loss did not improve from 0.35668\n",
            "\n",
            "Epoch 7: ReduceLROnPlateau reducing learning rate to 4.999999873689376e-06.\n",
            "\u001b[1m813/813\u001b[0m \u001b[32m━━━━━━━━━━━━━━━━━━━━\u001b[0m\u001b[37m\u001b[0m \u001b[1m239s\u001b[0m 294ms/step - accuracy: 0.7931 - loss: 0.4072 - val_accuracy: 0.5672 - val_loss: 1.1516 - learning_rate: 1.0000e-05\n",
            "Epoch 8/15\n",
            "\u001b[1m813/813\u001b[0m \u001b[32m━━━━━━━━━━━━━━━━━━━━\u001b[0m\u001b[37m\u001b[0m \u001b[1m0s\u001b[0m 262ms/step - accuracy: 0.7965 - loss: 0.4007\n",
            "Epoch 8: val_loss did not improve from 0.35668\n",
            "\u001b[1m813/813\u001b[0m \u001b[32m━━━━━━━━━━━━━━━━━━━━\u001b[0m\u001b[37m\u001b[0m \u001b[1m263s\u001b[0m 296ms/step - accuracy: 0.7965 - loss: 0.4007 - val_accuracy: 0.6958 - val_loss: 0.6500 - learning_rate: 5.0000e-06\n",
            "Epoch 9/15\n",
            "\u001b[1m813/813\u001b[0m \u001b[32m━━━━━━━━━━━━━━━━━━━━\u001b[0m\u001b[37m\u001b[0m \u001b[1m0s\u001b[0m 266ms/step - accuracy: 0.7979 - loss: 0.3986\n",
            "Epoch 9: val_loss improved from 0.35668 to 0.34425, saving model to /content/drive/MyDrive/DermAI_models_resnet/best_resnet_fold1.keras\n",
            "\u001b[1m813/813\u001b[0m \u001b[32m━━━━━━━━━━━━━━━━━━━━\u001b[0m\u001b[37m\u001b[0m \u001b[1m245s\u001b[0m 302ms/step - accuracy: 0.7979 - loss: 0.3986 - val_accuracy: 0.8361 - val_loss: 0.3442 - learning_rate: 5.0000e-06\n",
            "Epoch 10/15\n",
            "\u001b[1m813/813\u001b[0m \u001b[32m━━━━━━━━━━━━━━━━━━━━\u001b[0m\u001b[37m\u001b[0m \u001b[1m0s\u001b[0m 264ms/step - accuracy: 0.7943 - loss: 0.3965\n",
            "Epoch 10: val_loss did not improve from 0.34425\n",
            "\u001b[1m813/813\u001b[0m \u001b[32m━━━━━━━━━━━━━━━━━━━━\u001b[0m\u001b[37m\u001b[0m \u001b[1m242s\u001b[0m 298ms/step - accuracy: 0.7943 - loss: 0.3965 - val_accuracy: 0.7668 - val_loss: 1.3401 - learning_rate: 5.0000e-06\n",
            "Epoch 11/15\n",
            "\u001b[1m547/813\u001b[0m \u001b[32m━━━━━━━━━━━━━\u001b[0m\u001b[37m━━━━━━━\u001b[0m \u001b[1m1:09\u001b[0m 261ms/step - accuracy: 0.8099 - loss: 0.3892"
          ]
        }
      ]
    },
    {
      "cell_type": "code",
      "source": [
        "# Evaluation Summary\n",
        "print(f\"Accuracy:  {acc:.4f}\")\n",
        "print(f\"Precision: {prec:.4f}\")\n",
        "print(f\"Recall:    {rec:.4f}\")\n",
        "print(f\"F1-Score:  {f1:.4f}\")\n",
        "\n",
        "# Confusion Matrix\n",
        "from sklearn.metrics import confusion_matrix, ConfusionMatrixDisplay, roc_curve, auc\n",
        "import matplotlib.pyplot as plt\n",
        "\n",
        "cm = confusion_matrix(true, preds)\n",
        "disp = ConfusionMatrixDisplay(confusion_matrix=cm, display_labels=['Benign', 'Malignant'])\n",
        "disp.plot(cmap='Blues', values_format='d')\n",
        "plt.title(\"Confusion Matrix\")\n",
        "plt.show()\n",
        "\n",
        "# ROC Curve\n",
        "fpr, tpr, thresholds = roc_curve(true, preds_prob)\n",
        "roc_auc = auc(fpr, tpr)\n",
        "plt.figure()\n",
        "plt.plot(fpr, tpr, label=f'ROC curve (area = {roc_auc:.2f})')\n",
        "plt.plot([0, 1], [0, 1], linestyle='--', color='gray')\n",
        "plt.xlabel('False Positive Rate')\n",
        "plt.ylabel('True Positive Rate')\n",
        "plt.title('Receiver Operating Characteristic (ROC)')\n",
        "plt.legend(loc=\"lower right\")\n",
        "plt.show()\n",
        "\n",
        "# Save evaluation plots\n",
        "plt.savefig(\"evaluation_results.png\", dpi=300)\n"
      ],
      "metadata": {
        "id": "4kYSTC-Bygi5"
      },
      "execution_count": null,
      "outputs": []
    },
    {
      "cell_type": "markdown",
      "source": [
        "##### Fold 2"
      ],
      "metadata": {
        "id": "Yd9-IVpUwMle"
      }
    },
    {
      "cell_type": "code",
      "source": [
        "# Fold 2\n",
        "fold_no = 2\n",
        "train_idx, val_idx = splits[1]\n",
        "train_df = pd.DataFrame({'path': X[train_idx], 'label_idx': y[train_idx]})\n",
        "val_df   = pd.DataFrame({'path': X[val_idx],   'label_idx': y[val_idx]})\n",
        "\n",
        "class_weight = compute_weights(train_df['label_idx'].values)\n",
        "print(\"class_weight:\", class_weight)\n",
        "\n",
        "train_gen = train_datagen.flow_from_dataframe(train_df, x_col='path', y_col='label_idx',\n",
        "                                              target_size=IMG_SIZE, class_mode='raw',\n",
        "                                              batch_size=BATCH_SIZE, shuffle=True)\n",
        "val_gen = val_datagen.flow_from_dataframe(val_df, x_col='path', y_col='label_idx',\n",
        "                                          target_size=IMG_SIZE, class_mode='raw',\n",
        "                                          batch_size=BATCH_SIZE, shuffle=False)\n",
        "\n",
        "print_generator_info(train_gen, \"train_gen\")\n",
        "print_generator_info(val_gen, \"val_gen\")\n",
        "\n",
        "model = build_resnet_binary(input_shape=(IMG_SIZE[0], IMG_SIZE[1], 3), unfreeze_last_n=40)\n",
        "\n",
        "ckpt_path = os.path.join(MODELS_DIR, f\"best_resnet_fold{fold_no}.keras\")\n",
        "csv_log_path = os.path.join(MODELS_DIR, f\"training_log_fold{fold_no}.csv\")\n",
        "callbacks = [\n",
        "    EarlyStopping(monitor='val_loss', patience=5, restore_best_weights=True, verbose=1),\n",
        "    ModelCheckpoint(ckpt_path, monitor='val_loss', save_best_only=True, verbose=1),\n",
        "    ReduceLROnPlateau(monitor='val_loss', factor=0.5, patience=3, verbose=1),\n",
        "    CSVLogger(csv_log_path)\n",
        "]\n",
        "\n",
        "steps_per_epoch = math.ceil(len(train_df) / BATCH_SIZE)\n",
        "val_steps = math.ceil(len(val_df) / BATCH_SIZE)\n",
        "\n",
        "history = model.fit(\n",
        "    train_gen,\n",
        "    epochs=EPOCHS,\n",
        "    validation_data=val_gen,\n",
        "    steps_per_epoch=steps_per_epoch,\n",
        "    validation_steps=val_steps,\n",
        "    class_weight=class_weight,\n",
        "    callbacks=callbacks,\n",
        "    verbose=VERBOSE\n",
        ")\n",
        "\n",
        "best = tf.keras.models.load_model(ckpt_path)\n",
        "val_gen_eval = val_datagen.flow_from_dataframe(val_df, x_col='path', y_col='label_idx',\n",
        "                                               target_size=IMG_SIZE, class_mode='raw',\n",
        "                                               batch_size=BATCH_SIZE, shuffle=False)\n",
        "preds_prob = best.predict(val_gen_eval, steps=val_steps, verbose=VERBOSE)\n",
        "preds = (preds_prob.ravel() > 0.5).astype(int)\n",
        "true = val_df['label_idx'].values[:len(preds)]\n",
        "\n",
        "acc = accuracy_score(true, preds)\n",
        "prec = precision_score(true, preds, zero_division=0)\n",
        "rec = recall_score(true, preds, zero_division=0)\n",
        "f1 = f1_score(true, preds, zero_division=0)\n",
        "\n",
        "print(f\"Fold {fold_no} -> acc:{acc:.4f}, prec:{prec:.4f}, rec:{rec:.4f}, f1:{f1:.4f}\")\n",
        "print(classification_report(true, preds, target_names=['benign','malignant'], zero_division=0))\n",
        "print(\"Confusion matrix:\\n\", confusion_matrix(true, preds))\n",
        "\n",
        "tf.keras.backend.clear_session()\n",
        "gc.collect()"
      ],
      "metadata": {
        "id": "2zIWd4ozwFnb"
      },
      "execution_count": null,
      "outputs": []
    },
    {
      "cell_type": "code",
      "source": [
        "# Evaluation Summary\n",
        "print(f\"Accuracy:  {acc:.4f}\")\n",
        "print(f\"Precision: {prec:.4f}\")\n",
        "print(f\"Recall:    {rec:.4f}\")\n",
        "print(f\"F1-Score:  {f1:.4f}\")\n",
        "\n",
        "# Confusion Matrix\n",
        "from sklearn.metrics import confusion_matrix, ConfusionMatrixDisplay, roc_curve, auc\n",
        "import matplotlib.pyplot as plt\n",
        "\n",
        "cm = confusion_matrix(true, preds)\n",
        "disp = ConfusionMatrixDisplay(confusion_matrix=cm, display_labels=['Benign', 'Malignant'])\n",
        "disp.plot(cmap='Blues', values_format='d')\n",
        "plt.title(\"Confusion Matrix\")\n",
        "plt.show()\n",
        "\n",
        "# ROC Curve\n",
        "fpr, tpr, thresholds = roc_curve(true, preds_prob)\n",
        "roc_auc = auc(fpr, tpr)\n",
        "plt.figure()\n",
        "plt.plot(fpr, tpr, label=f'ROC curve (area = {roc_auc:.2f})')\n",
        "plt.plot([0, 1], [0, 1], linestyle='--', color='gray')\n",
        "plt.xlabel('False Positive Rate')\n",
        "plt.ylabel('True Positive Rate')\n",
        "plt.title('Receiver Operating Characteristic (ROC)')\n",
        "plt.legend(loc=\"lower right\")\n",
        "plt.show()\n",
        "\n",
        "# Save evaluation plots\n",
        "plt.savefig(\"evaluation_results.png\", dpi=300)"
      ],
      "metadata": {
        "id": "y6-b8VSbywWU"
      },
      "execution_count": null,
      "outputs": []
    },
    {
      "cell_type": "markdown",
      "source": [
        "##### Fold 3"
      ],
      "metadata": {
        "id": "AM5sliyJwWwW"
      }
    },
    {
      "cell_type": "code",
      "source": [
        "# Fold 3\n",
        "fold_no = 3\n",
        "train_idx, val_idx = splits[2]\n",
        "train_df = pd.DataFrame({'path': X[train_idx], 'label_idx': y[train_idx]})\n",
        "val_df   = pd.DataFrame({'path': X[val_idx],   'label_idx': y[val_idx]})\n",
        "\n",
        "class_weight = compute_weights(train_df['label_idx'].values)\n",
        "print(\"class_weight:\", class_weight)\n",
        "\n",
        "train_gen = train_datagen.flow_from_dataframe(train_df, x_col='path', y_col='label_idx',\n",
        "                                              target_size=IMG_SIZE, class_mode='raw',\n",
        "                                              batch_size=BATCH_SIZE, shuffle=True)\n",
        "val_gen = val_datagen.flow_from_dataframe(val_df, x_col='path', y_col='label_idx',\n",
        "                                          target_size=IMG_SIZE, class_mode='raw',\n",
        "                                          batch_size=BATCH_SIZE, shuffle=False)\n",
        "\n",
        "print_generator_info(train_gen, \"train_gen\")\n",
        "print_generator_info(val_gen, \"val_gen\")\n",
        "\n",
        "model = build_resnet_binary(input_shape=(IMG_SIZE[0], IMG_SIZE[1], 3), unfreeze_last_n=40)\n",
        "\n",
        "ckpt_path = os.path.join(MODELS_DIR, f\"best_resnet_fold{fold_no}.keras\")\n",
        "csv_log_path = os.path.join(MODELS_DIR, f\"training_log_fold{fold_no}.csv\")\n",
        "callbacks = [\n",
        "    EarlyStopping(monitor='val_loss', patience=5, restore_best_weights=True, verbose=1),\n",
        "    ModelCheckpoint(ckpt_path, monitor='val_loss', save_best_only=True, verbose=1),\n",
        "    ReduceLROnPlateau(monitor='val_loss', factor=0.5, patience=3, verbose=1),\n",
        "    CSVLogger(csv_log_path)\n",
        "]\n",
        "\n",
        "steps_per_epoch = math.ceil(len(train_df) / BATCH_SIZE)\n",
        "val_steps = math.ceil(len(val_df) / BATCH_SIZE)\n",
        "\n",
        "history = model.fit(\n",
        "    train_gen,\n",
        "    epochs=EPOCHS,\n",
        "    validation_data=val_gen,\n",
        "    steps_per_epoch=steps_per_epoch,\n",
        "    validation_steps=val_steps,\n",
        "    class_weight=class_weight,\n",
        "    callbacks=callbacks,\n",
        "    verbose=VERBOSE\n",
        ")\n",
        "\n",
        "best = tf.keras.models.load_model(ckpt_path)\n",
        "val_gen_eval = val_datagen.flow_from_dataframe(val_df, x_col='path', y_col='label_idx',\n",
        "                                               target_size=IMG_SIZE, class_mode='raw',\n",
        "                                               batch_size=BATCH_SIZE, shuffle=False)\n",
        "preds_prob = best.predict(val_gen_eval, steps=val_steps, verbose=VERBOSE)\n",
        "preds = (preds_prob.ravel() > 0.5).astype(int)\n",
        "true = val_df['label_idx'].values[:len(preds)]\n",
        "\n",
        "acc = accuracy_score(true, preds)\n",
        "prec = precision_score(true, preds, zero_division=0)\n",
        "rec = recall_score(true, preds, zero_division=0)\n",
        "f1 = f1_score(true, preds, zero_division=0)\n",
        "\n",
        "print(f\"Fold {fold_no} -> acc:{acc:.4f}, prec:{prec:.4f}, rec:{rec:.4f}, f1:{f1:.4f}\")\n",
        "print(classification_report(true, preds, target_names=['benign','malignant'], zero_division=0))\n",
        "print(\"Confusion matrix:\\n\", confusion_matrix(true, preds))\n",
        "\n",
        "tf.keras.backend.clear_session()\n",
        "gc.collect()"
      ],
      "metadata": {
        "id": "Q_Sga86HwaaM"
      },
      "execution_count": null,
      "outputs": []
    },
    {
      "cell_type": "code",
      "source": [
        "# Evaluation Summary\n",
        "print(f\"Accuracy:  {acc:.4f}\")\n",
        "print(f\"Precision: {prec:.4f}\")\n",
        "print(f\"Recall:    {rec:.4f}\")\n",
        "print(f\"F1-Score:  {f1:.4f}\")\n",
        "\n",
        "# Confusion Matrix\n",
        "from sklearn.metrics import confusion_matrix, ConfusionMatrixDisplay, roc_curve, auc\n",
        "import matplotlib.pyplot as plt\n",
        "\n",
        "cm = confusion_matrix(true, preds)\n",
        "disp = ConfusionMatrixDisplay(confusion_matrix=cm, display_labels=['Benign', 'Malignant'])\n",
        "disp.plot(cmap='Blues', values_format='d')\n",
        "plt.title(\"Confusion Matrix\")\n",
        "plt.show()\n",
        "\n",
        "# ROC Curve\n",
        "fpr, tpr, thresholds = roc_curve(true, preds_prob)\n",
        "roc_auc = auc(fpr, tpr)\n",
        "plt.figure()\n",
        "plt.plot(fpr, tpr, label=f'ROC curve (area = {roc_auc:.2f})')\n",
        "plt.plot([0, 1], [0, 1], linestyle='--', color='gray')\n",
        "plt.xlabel('False Positive Rate')\n",
        "plt.ylabel('True Positive Rate')\n",
        "plt.title('Receiver Operating Characteristic (ROC)')\n",
        "plt.legend(loc=\"lower right\")\n",
        "plt.show()\n",
        "\n",
        "# Save evaluation plots\n",
        "plt.savefig(\"evaluation_results.png\", dpi=300)"
      ],
      "metadata": {
        "id": "KAI52erNyyGN"
      },
      "execution_count": null,
      "outputs": []
    },
    {
      "cell_type": "markdown",
      "metadata": {
        "id": "zzmU9P548MXe"
      },
      "source": [
        "\n",
        "\n",
        "---\n",
        "\n",
        "\n",
        "\n",
        "---\n",
        "\n"
      ]
    },
    {
      "cell_type": "code",
      "source": [
        "#Grad-CAM Visualization"
      ],
      "metadata": {
        "id": "u4Atti3QzDiO"
      },
      "execution_count": null,
      "outputs": []
    },
    {
      "cell_type": "markdown",
      "metadata": {
        "id": "E-zhlHge8N7c"
      },
      "source": [
        "\n",
        "\n",
        "---\n",
        "\n"
      ]
    },
    {
      "cell_type": "markdown",
      "metadata": {
        "id": "A-j18g1V8PQn"
      },
      "source": [
        "\n",
        "\n",
        "---\n",
        "\n"
      ]
    },
    {
      "cell_type": "markdown",
      "metadata": {
        "id": "jnxMPbhHho8d"
      },
      "source": [
        "### Part Three"
      ]
    }
  ],
  "metadata": {
    "colab": {
      "provenance": [],
      "collapsed_sections": [
        "AvegU7jsUFOa",
        "dlNwr0kGmi-h"
      ],
      "gpuType": "T4",
      "include_colab_link": true
    },
    "kernelspec": {
      "display_name": "Python 3",
      "name": "python3"
    },
    "language_info": {
      "name": "python"
    },
    "accelerator": "GPU"
  },
  "nbformat": 4,
  "nbformat_minor": 0
}